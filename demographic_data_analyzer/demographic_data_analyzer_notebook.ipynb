{
 "cells": [
  {
   "cell_type": "code",
   "execution_count": 1,
   "id": "c11db0d6",
   "metadata": {},
   "outputs": [],
   "source": [
    "import pandas as pd"
   ]
  },
  {
   "cell_type": "code",
   "execution_count": 18,
   "id": "836d8389",
   "metadata": {},
   "outputs": [
    {
     "name": "stdout",
     "output_type": "stream",
     "text": [
      "Number of each race:\n",
      " White                 27816\n",
      "Black                  3124\n",
      "Asian-Pac-Islander     1039\n",
      "Amer-Indian-Eskimo      311\n",
      "Other                   271\n",
      "Name: race, dtype: int64\n",
      "Average age of men: 39.4\n",
      "Percentage with Bachelors degrees: 16.4%\n",
      "Percentage with higher education that earn >50K: 46.5%\n",
      "Percentage without higher education that earn >50K: 17.4%\n",
      "Min work time: 1 hours/week\n",
      "Percentage of rich among those who work fewest hours: 10.0%\n",
      "Country with highest percentage of rich: Iran\n",
      "Highest percentage of rich people in country: 41.9%\n",
      "Top occupations in India: Prof-specialty\n"
     ]
    }
   ],
   "source": [
    "df = pd.read_csv('adult.data.csv')\n",
    "\n",
    "race_count = df['race'].value_counts()\n",
    "\n",
    "average_age_men = round(df[df['sex'] == 'Male']['age'].mean(), ndigits=1)\n",
    "\n",
    "percentage_bachelors = round(((df[df['education'] == 'Bachelors'].shape[0] / df.shape[0]) * 100), ndigits=1)\n",
    "\n",
    "higher_education = df[df['education'].isin(['Bachelors','Masters','Doctorate'])]\n",
    "\n",
    "lower_education = df[~df['education'].isin(['Bachelors','Masters','Doctorate'])]\n",
    "\n",
    "higher_education_rich = round(((higher_education[higher_education['salary'] == '>50K'].shape[0] / higher_education.shape[0]) * 100), ndigits=1)\n",
    "lower_education_rich = round(((lower_education[lower_education['salary'] == '>50K'].shape[0] / lower_education.shape[0]) * 100), ndigits=1)\n",
    "\n",
    "min_work_hours = df['hours-per-week'].min()\n",
    "\n",
    "num_min_workers = df[df['hours-per-week'] == min_work_hours]\n",
    "\n",
    "rich_percentage = round((num_min_workers[num_min_workers['salary'] == '>50K'].shape[0] / num_min_workers.shape[0] * 100), ndigits=1)\n",
    "\n",
    "people = df['native-country'].value_counts()\n",
    "rich = df[df['salary'] == '>50K']['native-country'].value_counts()\n",
    "highest_earning_country = (rich / people).sort_values(ascending=False).keys()[0]\n",
    "\n",
    "people_in_highest = df[df['native-country'] == highest_earning_country]\n",
    "rich_in_highest = people_in_highest[people_in_highest['salary'] == '>50K']\n",
    "highest_earning_country_percentage = round((rich_in_highest.shape[0] / people_in_highest.shape[0] * 100), ndigits=1)\n",
    "\n",
    "top_IN_occupation = df[df['salary'] == '>50K']\n",
    "top_IN_occupation = top_IN_occupation[top_IN_occupation['native-country'] == 'India']\n",
    "top_IN_occupation = top_IN_occupation['occupation'].value_counts()._index[0]\n",
    "\n",
    "print(\"Number of each race:\\n\", race_count) \n",
    "print(\"Average age of men:\", average_age_men)\n",
    "print(f\"Percentage with Bachelors degrees: {percentage_bachelors}%\")\n",
    "print(f\"Percentage with higher education that earn >50K: {higher_education_rich}%\")\n",
    "print(f\"Percentage without higher education that earn >50K: {lower_education_rich}%\")\n",
    "print(f\"Min work time: {min_work_hours} hours/week\")\n",
    "print(f\"Percentage of rich among those who work fewest hours: {rich_percentage}%\")\n",
    "print(\"Country with highest percentage of rich:\", highest_earning_country)\n",
    "print(f\"Highest percentage of rich people in country: {highest_earning_country_percentage}%\")\n",
    "print(\"Top occupations in India:\", top_IN_occupation)\n"
   ]
  }
 ],
 "metadata": {
  "kernelspec": {
   "display_name": "Python 3 (ipykernel)",
   "language": "python",
   "name": "python3"
  },
  "language_info": {
   "codemirror_mode": {
    "name": "ipython",
    "version": 3
   },
   "file_extension": ".py",
   "mimetype": "text/x-python",
   "name": "python",
   "nbconvert_exporter": "python",
   "pygments_lexer": "ipython3",
   "version": "3.9.6"
  }
 },
 "nbformat": 4,
 "nbformat_minor": 5
}
